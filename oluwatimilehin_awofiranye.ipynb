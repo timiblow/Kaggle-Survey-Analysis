{
 "cells": [
  {
   "cell_type": "code",
   "execution_count": null,
   "id": "c7ce7209",
   "metadata": {
    "tags": []
   },
   "outputs": [],
   "source": [
    "# import necessary libraries\n",
    "\n",
    "import pyforest\n",
    "import warnings\n",
    "warnings.filterwarnings('ignore')"
   ]
  },
  {
   "cell_type": "code",
   "execution_count": null,
   "id": "5c27f5f4",
   "metadata": {
    "tags": []
   },
   "outputs": [],
   "source": [
    "# read the data\n",
    "\n",
    "df_survey = pd.read_csv('2019multiple_choice_responses.csv')\n",
    "df_survey.head()"
   ]
  },
  {
   "cell_type": "code",
   "execution_count": null,
   "id": "bc8aa932",
   "metadata": {
    "tags": []
   },
   "outputs": [],
   "source": [
    "# the first 11 columns of the data\n",
    "\n",
    "df_survey.columns[:11]"
   ]
  },
  {
   "cell_type": "code",
   "execution_count": null,
   "id": "3ac2a791",
   "metadata": {
    "tags": []
   },
   "outputs": [],
   "source": [
    "# subset the data using the first 11 columns\n",
    "\n",
    "subset_df = df_survey[['Time from Start to Finish (seconds)', 'Q1', 'Q2', 'Q2_OTHER_TEXT',\n",
    "       'Q3', 'Q4', 'Q5', 'Q5_OTHER_TEXT', 'Q6', 'Q7', 'Q8']]"
   ]
  },
  {
   "cell_type": "code",
   "execution_count": null,
   "id": "6cb989ad",
   "metadata": {
    "tags": []
   },
   "outputs": [],
   "source": [
    "subset_df"
   ]
  },
  {
   "cell_type": "code",
   "execution_count": null,
   "id": "78bf626b",
   "metadata": {
    "tags": []
   },
   "outputs": [],
   "source": [
    "# rename columns of the subset data\n",
    "\n",
    "subset_df = subset_df.rename(columns={\n",
    "    'Time from Start to Finish (seconds)': 'Duration', \n",
    "    'Q1': 'Age', \n",
    "    'Q2': 'Gender', \n",
    "    'Q2_OTHER_TEXT': 'Gender_Identity',\n",
    "    'Q3': 'Country',\n",
    "    'Q4': 'Education_Level',\n",
    "    'Q5': 'Job_Role',\n",
    "    'Q5_OTHER_TEXT': 'Recent_Job_Role ', \n",
    "    'Q6': 'Company_Size', \n",
    "    'Q7': 'DS_Team_Size', \n",
    "    'Q8': 'ML_Implementation'\n",
    "})"
   ]
  },
  {
   "cell_type": "code",
   "execution_count": null,
   "id": "075e6eea",
   "metadata": {
    "tags": []
   },
   "outputs": [],
   "source": [
    "subset_df"
   ]
  },
  {
   "cell_type": "markdown",
   "id": "b64c210f",
   "metadata": {},
   "source": [
    "### Reasons for renaming the columns\n",
    "\n",
    "To help read, interpret and understand the code and what we are dealing with in our data.To also facilitate downstream analysis, I renamed the first 11 columns of the dataset using meaningful, concise labels. The original column names included ambiguous codes/names (e.g., \"Q1\", \"Q2\"). The new names reflect the actual content or question intent in a compact and more understandable format:\n",
    "\n",
    "- `Duration`: Time taken to complete the survey.\n",
    "- `Age`: Respondent's age.\n",
    "- `Gender`: Respondent's selected gender identity.\n",
    "- `Gender_Self_Described`: Custom gender text for those who selected \"prefer to self-describe\".\n",
    "- `Country`: Respondent's country of residence.\n",
    "- `Education_Level`: Highest level of formal education.\n",
    "- `Job_Role`: Closest job title selected.\n",
    "- `Recent_Job_Role`: Custom job title if \"Other\" was selected.\n",
    "- `Company_Size`: Number of employees at respondent's workplace.\n",
    "- `DS_Team_Size`: Number of individuals handling data science workloads.\n",
    "- `ML_Usage`: Whether machine learning is used at the respondent's organization by the employer.\n",
    "\n",
    "This renaming helps ensure the dataset is cleaner, easier to explore, and ready for analysis or visualization.\n"
   ]
  },
  {
   "cell_type": "code",
   "execution_count": null,
   "id": "64edae94",
   "metadata": {},
   "outputs": [],
   "source": []
  }
 ],
 "metadata": {
  "kernelspec": {
   "display_name": "Python [conda env:base] *",
   "language": "python",
   "name": "conda-base-py"
  },
  "language_info": {
   "codemirror_mode": {
    "name": "ipython",
    "version": 3
   },
   "file_extension": ".py",
   "mimetype": "text/x-python",
   "name": "python",
   "nbconvert_exporter": "python",
   "pygments_lexer": "ipython3",
   "version": "3.12.7"
  }
 },
 "nbformat": 4,
 "nbformat_minor": 5
}
